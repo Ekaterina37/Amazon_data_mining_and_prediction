{
 "cells": [
  {
   "cell_type": "code",
   "execution_count": 27,
   "metadata": {},
   "outputs": [],
   "source": [
    "from bs4 import BeautifulSoup\n",
    "from selenium import webdriver\n",
    "from selenium.webdriver.common.by import By\n",
    "from selenium.webdriver.common.keys import Keys\n",
    "from selenium.webdriver.chrome.service import Service\n",
    "import requests\n",
    "import time\n",
    "import datetime\n",
    "import smtplib\n",
    "import csv\n",
    "import pandas as pd\n",
    "import re\n",
    "import nltk\n",
    "from nltk.corpus import stopwords\n",
    "from transformers import AutoTokenizer, AutoModelForSequenceClassification\n",
    "import torch\n",
    "import matplotlib.pyplot as plt\n",
    "import seaborn as sns\n",
    "from scikitplot.metrics import plot_confusion_matrix\n",
    "from sklearn.metrics import accuracy_score,precision_score,recall_score,confusion_matrix,roc_curve,classification_report\n",
    "from sklearn.feature_extraction.text import CountVectorizer\n",
    "from sklearn.model_selection import train_test_split\n",
    "from sklearn.naive_bayes import MultinomialNB\n",
    "from sklearn.metrics import accuracy_score\n",
    "from torch.utils.data import Dataset, DataLoader\n",
    "import sklearn.metrics as metrics\n",
    "from collections import Counter\n",
    "from sklearn.datasets import make_classification\n",
    "from imblearn.over_sampling import SMOTE\n",
    "from sklearn.utils import resample\n"
   ]
  },
  {
   "cell_type": "code",
   "execution_count": 3,
   "metadata": {},
   "outputs": [],
   "source": [
    "# location of chrome driver  = \"C:\\Program Files (x86)\\chromedriver.exe\"\n",
    "\n",
    "#let's mine some product data from Amazon\n",
    "# my friend purchased this mouse recently,so I decided to see what other users think of it\n",
    "\n",
    "#establish the connection                                                                                                                                                     \n",
    "s = Service(\"C:\\Program Files (x86)\\chromedriver.exe\")\n",
    "driver = webdriver.Chrome(service=s)\n",
    "url = 'https://www.amazon.com/Logitech-MX-Master-3S-Pale/dp/B09HMKFDXC/ref=cm_cr_arp_d_product_top?ie=UTF8'\n",
    "driver.get(url)\n",
    "\n",
    "#let's scrape general prodcut info! It will be used to scale up the research later\n",
    "prod = (driver.find_element(by =\"id\", value =\"productTitle\")).text\n",
    "asin = ((driver.find_element(By.XPATH,\"//input[@id='attach-baseAsin']\")).get_attribute(\"value\"))\n",
    "st_temp = (driver.find_element(by =\"id\", value =\"acrPopover\")).get_attribute(\"title\")\n",
    "prod_rating = re.findall(r\"(\\d+\\.*\\d*) out\", st_temp)[0]\n",
    "\n",
    "#obtaining the link taking us to all ratings\n",
    "reviews_link1 = driver.find_element(By.XPATH,\"//body/div[@id='a-page']/div[@id='dp']/div[@id='dp-container']/div[@id='customer-reviews_feature_div']/div[@id='reviewsMedley']/div[1]/div[2]/div[1]/div[2]/span[3]/span[1]/div[2]/div[1]/div[1]/div[6]/a[1]\")\n",
    "reviews_link2 = reviews_link1.get_attribute(\"href\")\n",
    "\n",
    "#closing this driver\n",
    "driver.quit()"
   ]
  },
  {
   "cell_type": "code",
   "execution_count": 23,
   "metadata": {},
   "outputs": [],
   "source": [
    "#let's scrape individual reviews and ratings awarded by customers\n",
    "\n",
    "stars = []\n",
    "reviews = []\n",
    "\n",
    "#this product has plenty of review pages. We can form the set as big as we like\n",
    "for i in range(300):\n",
    "        rev_p1 = reviews_link2+ \"&pageNumber=\" + str(i)\n",
    "        rev_p1\n",
    "        driver2 = webdriver.Chrome(service=s)\n",
    "        driver2.get(rev_p1)\n",
    "\n",
    "        soup_rev = BeautifulSoup(driver2.page_source) \n",
    "        for i in soup_rev.findAll(\"div\",{'class':\"a-section celwidget\"}):\n",
    "                reviews.append((i.find(\"span\",{'data-hook':\"review-body\"})).text)\n",
    "                stars.append(((i.find(\"span\",{'class':\"a-icon-alt\"})).text)[0])\n",
    "        driver2.quit()         "
   ]
  },
  {
   "cell_type": "code",
   "execution_count": 63,
   "metadata": {},
   "outputs": [
    {
     "data": {
      "text/html": [
       "<div>\n",
       "<style scoped>\n",
       "    .dataframe tbody tr th:only-of-type {\n",
       "        vertical-align: middle;\n",
       "    }\n",
       "\n",
       "    .dataframe tbody tr th {\n",
       "        vertical-align: top;\n",
       "    }\n",
       "\n",
       "    .dataframe thead th {\n",
       "        text-align: right;\n",
       "    }\n",
       "</style>\n",
       "<table border=\"1\" class=\"dataframe\">\n",
       "  <thead>\n",
       "    <tr style=\"text-align: right;\">\n",
       "      <th></th>\n",
       "      <th>Reviews</th>\n",
       "      <th>Stars</th>\n",
       "    </tr>\n",
       "  </thead>\n",
       "  <tbody>\n",
       "    <tr>\n",
       "      <th>0</th>\n",
       "      <td>\\nPros:Scrolling 5/5-Scrolling on Windows has ...</td>\n",
       "      <td>5</td>\n",
       "    </tr>\n",
       "    <tr>\n",
       "      <th>1</th>\n",
       "      <td>\\nI wish that there was a fusion between the L...</td>\n",
       "      <td>5</td>\n",
       "    </tr>\n",
       "    <tr>\n",
       "      <th>2</th>\n",
       "      <td>\\nI've been using this mouse for a year and I ...</td>\n",
       "      <td>5</td>\n",
       "    </tr>\n",
       "    <tr>\n",
       "      <th>3</th>\n",
       "      <td>\\nPros:1.) The fact that the scroll wheel is a...</td>\n",
       "      <td>3</td>\n",
       "    </tr>\n",
       "    <tr>\n",
       "      <th>4</th>\n",
       "      <td>\\nI've been using the Logitech Performance MX ...</td>\n",
       "      <td>5</td>\n",
       "    </tr>\n",
       "  </tbody>\n",
       "</table>\n",
       "</div>"
      ],
      "text/plain": [
       "                                             Reviews Stars\n",
       "0  \\nPros:Scrolling 5/5-Scrolling on Windows has ...     5\n",
       "1  \\nI wish that there was a fusion between the L...     5\n",
       "2  \\nI've been using this mouse for a year and I ...     5\n",
       "3  \\nPros:1.) The fact that the scroll wheel is a...     3\n",
       "4  \\nI've been using the Logitech Performance MX ...     5"
      ]
     },
     "execution_count": 63,
     "metadata": {},
     "output_type": "execute_result"
    }
   ],
   "source": [
    "\n",
    "df_rev = pd.DataFrame({'Reviews': reviews, 'Stars': stars})\n",
    "df_rev.head()"
   ]
  },
  {
   "cell_type": "code",
   "execution_count": 64,
   "metadata": {},
   "outputs": [
    {
     "data": {
      "text/html": [
       "<div>\n",
       "<style scoped>\n",
       "    .dataframe tbody tr th:only-of-type {\n",
       "        vertical-align: middle;\n",
       "    }\n",
       "\n",
       "    .dataframe tbody tr th {\n",
       "        vertical-align: top;\n",
       "    }\n",
       "\n",
       "    .dataframe thead th {\n",
       "        text-align: right;\n",
       "    }\n",
       "</style>\n",
       "<table border=\"1\" class=\"dataframe\">\n",
       "  <thead>\n",
       "    <tr style=\"text-align: right;\">\n",
       "      <th></th>\n",
       "      <th>Reviews</th>\n",
       "      <th>Stars</th>\n",
       "    </tr>\n",
       "  </thead>\n",
       "  <tbody>\n",
       "    <tr>\n",
       "      <th>0</th>\n",
       "      <td>\\nPros:Scrolling 5/5-Scrolling on Windows has ...</td>\n",
       "      <td>5</td>\n",
       "    </tr>\n",
       "    <tr>\n",
       "      <th>1</th>\n",
       "      <td>\\nI wish that there was a fusion between the L...</td>\n",
       "      <td>5</td>\n",
       "    </tr>\n",
       "    <tr>\n",
       "      <th>2</th>\n",
       "      <td>\\nI've been using this mouse for a year and I ...</td>\n",
       "      <td>5</td>\n",
       "    </tr>\n",
       "    <tr>\n",
       "      <th>3</th>\n",
       "      <td>\\nPros:1.) The fact that the scroll wheel is a...</td>\n",
       "      <td>3</td>\n",
       "    </tr>\n",
       "    <tr>\n",
       "      <th>4</th>\n",
       "      <td>\\nI've been using the Logitech Performance MX ...</td>\n",
       "      <td>5</td>\n",
       "    </tr>\n",
       "  </tbody>\n",
       "</table>\n",
       "</div>"
      ],
      "text/plain": [
       "                                             Reviews Stars\n",
       "0  \\nPros:Scrolling 5/5-Scrolling on Windows has ...     5\n",
       "1  \\nI wish that there was a fusion between the L...     5\n",
       "2  \\nI've been using this mouse for a year and I ...     5\n",
       "3  \\nPros:1.) The fact that the scroll wheel is a...     3\n",
       "4  \\nI've been using the Logitech Performance MX ...     5"
      ]
     },
     "execution_count": 64,
     "metadata": {},
     "output_type": "execute_result"
    }
   ],
   "source": [
    "df_rev.head()"
   ]
  },
  {
   "cell_type": "code",
   "execution_count": 71,
   "metadata": {},
   "outputs": [],
   "source": [
    "#writing down the data to csv\n",
    "df_rev.to_csv('dataframe_reviews_300.csv', index=False)"
   ]
  },
  {
   "cell_type": "code",
   "execution_count": 3,
   "metadata": {},
   "outputs": [
    {
     "name": "stdout",
     "output_type": "stream",
     "text": [
      "<class 'pandas.core.frame.DataFrame'>\n",
      "RangeIndex: 1342 entries, 0 to 1341\n",
      "Data columns (total 2 columns):\n",
      " #   Column   Non-Null Count  Dtype \n",
      "---  ------   --------------  ----- \n",
      " 0   Reviews  1341 non-null   object\n",
      " 1   Stars    1342 non-null   int64 \n",
      "dtypes: int64(1), object(1)\n",
      "memory usage: 21.1+ KB\n"
     ]
    }
   ],
   "source": [
    "\n",
    "df_rev = pd.read_csv('dataframe_reviews_300.csv')\n",
    "df_rev.info()"
   ]
  },
  {
   "cell_type": "code",
   "execution_count": 42,
   "metadata": {},
   "outputs": [
    {
     "data": {
      "text/html": [
       "<div>\n",
       "<style scoped>\n",
       "    .dataframe tbody tr th:only-of-type {\n",
       "        vertical-align: middle;\n",
       "    }\n",
       "\n",
       "    .dataframe tbody tr th {\n",
       "        vertical-align: top;\n",
       "    }\n",
       "\n",
       "    .dataframe thead th {\n",
       "        text-align: right;\n",
       "    }\n",
       "</style>\n",
       "<table border=\"1\" class=\"dataframe\">\n",
       "  <thead>\n",
       "    <tr style=\"text-align: right;\">\n",
       "      <th></th>\n",
       "      <th>Reviews</th>\n",
       "      <th>Stars</th>\n",
       "      <th>Low_rev</th>\n",
       "    </tr>\n",
       "  </thead>\n",
       "  <tbody>\n",
       "    <tr>\n",
       "      <th>0</th>\n",
       "      <td>\\nPros:Scrolling 5/5-Scrolling on Windows has ...</td>\n",
       "      <td>5</td>\n",
       "      <td>prosscrolling 55scrolling windows always light...</td>\n",
       "    </tr>\n",
       "    <tr>\n",
       "      <th>1</th>\n",
       "      <td>\\nI wish that there was a fusion between the L...</td>\n",
       "      <td>5</td>\n",
       "      <td>wish fusion logitech g502 hero wireless mouse ...</td>\n",
       "    </tr>\n",
       "    <tr>\n",
       "      <th>2</th>\n",
       "      <td>\\nI've been using this mouse for a year and I ...</td>\n",
       "      <td>5</td>\n",
       "      <td>ive using mouse year say exceeded expectations...</td>\n",
       "    </tr>\n",
       "    <tr>\n",
       "      <th>3</th>\n",
       "      <td>\\nPros:1.) The fact that the scroll wheel is a...</td>\n",
       "      <td>3</td>\n",
       "      <td>pros1 fact scroll wheel metal least gets rid s...</td>\n",
       "    </tr>\n",
       "    <tr>\n",
       "      <th>4</th>\n",
       "      <td>\\nI've been using the Logitech Performance MX ...</td>\n",
       "      <td>5</td>\n",
       "      <td>ive using logitech performance mx mx master mo...</td>\n",
       "    </tr>\n",
       "  </tbody>\n",
       "</table>\n",
       "</div>"
      ],
      "text/plain": [
       "                                             Reviews  Stars  \\\n",
       "0  \\nPros:Scrolling 5/5-Scrolling on Windows has ...      5   \n",
       "1  \\nI wish that there was a fusion between the L...      5   \n",
       "2  \\nI've been using this mouse for a year and I ...      5   \n",
       "3  \\nPros:1.) The fact that the scroll wheel is a...      3   \n",
       "4  \\nI've been using the Logitech Performance MX ...      5   \n",
       "\n",
       "                                             Low_rev  \n",
       "0  prosscrolling 55scrolling windows always light...  \n",
       "1  wish fusion logitech g502 hero wireless mouse ...  \n",
       "2  ive using mouse year say exceeded expectations...  \n",
       "3  pros1 fact scroll wheel metal least gets rid s...  \n",
       "4  ive using logitech performance mx mx master mo...  "
      ]
     },
     "execution_count": 42,
     "metadata": {},
     "output_type": "execute_result"
    }
   ],
   "source": [
    "# clean up the dataset\n",
    "stop_words = stopwords.words('english')\n",
    "\n",
    "df_rev['Low_rev'] = df_rev['Reviews'].str.lower()\n",
    "df_rev['Low_rev'] = df_rev['Low_rev'].astype(str).replace(r'[^a-zA-z0-9\\s]', '', regex=True)\n",
    "df_rev['Low_rev'] = df_rev['Low_rev'].apply(lambda x: ' '.join([word for word in x.split() if word not in (stop_words)]))\n",
    "\n",
    "df_rev.head()"
   ]
  },
  {
   "cell_type": "code",
   "execution_count": 10,
   "metadata": {},
   "outputs": [
    {
     "name": "stdout",
     "output_type": "stream",
     "text": [
      "5    844\n",
      "4    155\n",
      "1    150\n",
      "3    107\n",
      "2     86\n",
      "Name: Stars, dtype: int64\n"
     ]
    },
    {
     "data": {
      "image/png": "[encoded data removed]",
      "text/plain": [
       "<Figure size 640x480 with 1 Axes>"
      ]
     },
     "metadata": {},
     "output_type": "display_data"
    }
   ],
   "source": [
    "#lets create a visual of star rating distribution\n",
    "\n",
    "sns.countplot(x='Stars', data=df_rev)\n",
    "plt.title('Stars distribution')\n",
    "plt.xlabel('stars')\n",
    "plt.ylabel('count')\n",
    "print(df_rev['Stars'].value_counts())\n",
    "plt.show()\n"
   ]
  },
  {
   "cell_type": "code",
   "execution_count": 47,
   "metadata": {},
   "outputs": [
    {
     "name": "stdout",
     "output_type": "stream",
     "text": [
      "(150, 3) (86, 3) (107, 3) (155, 3) (844, 3)\n",
      "Count 5 844\n",
      "Random under-sampling:\n",
      "4    155\n",
      "1    150\n",
      "3    107\n",
      "5     86\n",
      "2     86\n",
      "Name: Stars, dtype: int64\n"
     ]
    }
   ],
   "source": [
    "#undersampling\n",
    "\n",
    "st_1 = df_rev[df_rev['Stars']==1]\n",
    "st_2 = df_rev[df_rev['Stars']==2]\n",
    "st_3 = df_rev[df_rev['Stars']==3]\n",
    "st_4 = df_rev[df_rev['Stars']==4]\n",
    "st_5 = df_rev[df_rev['Stars']==5]\n",
    "\n",
    "print(st_1.shape, st_2.shape, st_3.shape, st_4.shape, st_5.shape)\n",
    "\n",
    "count_5 = st_5.shape[0]\n",
    "count_4 = st_4.shape[0]\n",
    "count_3 = st_3.shape[0]\n",
    "count_2 = st_2.shape[0]\n",
    "count_1 = st_1.shape[0]\n",
    "\n",
    "print(\"Count 5\", count_5)\n",
    "\n",
    "df_class_5_under = st_5.sample(count_2)\n",
    "df_test_under = pd.concat([df_class_5_under, st_1, st_2, st_3, st_4], axis=0)\n",
    "\n",
    "print('Random under-sampling:')\n",
    "print(df_test_under.Stars.value_counts())"
   ]
  },
  {
   "cell_type": "code",
   "execution_count": 32,
   "metadata": {},
   "outputs": [
    {
     "ename": "ValueError",
     "evalue": "could not convert string to float: '\\nPros:Scrolling 5/5-Scrolling on Windows has always be light years behind Mac - even when using a track pad on Windows vs a stepped scroll wheel, the scroll feels jerky and inconsistent while Macs always feel buttery smooth and fluid no matter what device you use. This mouse with the scroll wheel in free spin \"MagSpeed\" mode is the closest I\\'ve ever felt a Windows machine scroll like a Mac. It really is super nice. I almost never put it into the stepped mode. I see a lot of comments talking about inconsistent scrolling on this mouse and I cannot say I have experienced that. For context I am using the Lightspeed connector and not Bluetooth, which I\\'m sure plays a large factor with the free spin. Let\\'s look at the math behind that. Logitech claims Lightspeed has a 1ms response time, while bluetooth can be as low as 34ms but is often times more around 100-300ms. In \"MagSpeed\" mode at full spin speed, this mouse will do 1000 lines per second. So yes, for your computer to ingest those line signals it\\'s going to need a 1ms response rate. I am also using Logitech\\'s Options+ software which may also play a role in scrolling stability.Ergonomics 4/5-Ergonomics feel really nice to me, but borderline too small. My glove size is between M and L (or 8 and 9), so if you are an L or larger hand maybe this won\\'t work for you, but everyone\\'s comfort is different. The thumb and palm sculpting is really nice and fills the hand nicely (depending on your size). The matte finish texturing also feels nice, I just hope it doesn\\'t deteriorate over time.Logitech Options+ Software 5/5-Being able to program the button map per application is a game changer (for me) and has really improved my work flow. DPI can also be adjusted here.Gesture Button 5/5-The lower thumb \"gesture\" button gives back Mac like gestures to mouse users, something I sorta forgot I was missing but use it all the time now.DPI 5/5-I found out 8k DPI is too high for my monitor, which was one of the deciding factors for me between this and the MX 3. I have a 49inch ultrawide 32:9 ratio monitor at 5120X1440 resolution, and I could feel the lower DPI of my old mouse on this monitor. However this one set to 8k is crazy fast - way too fast - so I currently have it set to 55% speed. Again lets look at the math - if you have a 8k monitor, this mouse set to max DPI is going to get from the left most side of the screen to the right most side in just 1inch of mouse travel. That\\'s fast - you may find that 8K is overkill for your needs. That said, this is all easily adjustable in the Options+ software and it does feel WAY smoother than any mouse or trackpad I\\'ve used. I\\'ve yet to use this on glass - I\\'m sure the DPI helps in that regard.Click 4/5-I honestly thought I wouldn\\'t like having a silent click feel, and I like clicky keyboards as well, but it\\'s growing on me. Enough so to make me rethink the type of keyboard I\\'m using. Click feel and sound ultimately comes down to preference, so all I can say is you feel the click, but it\\'s barely audible. Search youtube or even Amazon reviews, I\\'ve seen sound comparisons with this mouse so judge for yourself.Cons:Ergonomics:-The lost point above is due to size - my fourth finger does rest on the desk, which was true of my previous mouse as well so I\\'m used to it but the experience would be better if there was a rest point or wing on the right side of this mouse. I don\\'t know, this is again preference and hold style but for me I think I would have given a higher score for ergonomics if my pinky didn\\'t touch the desk.Click:-Still on the fence on how silent the click is. Feel is good, sound is... well not there. So if you\\'re used to a satisfying click sound this is going to be jarring.\\n'",
     "output_type": "error",
     "traceback": [
      "\u001b[1;31m---------------------------------------------------------------------------\u001b[0m",
      "\u001b[1;31mValueError\u001b[0m                                Traceback (most recent call last)",
      "Cell \u001b[1;32mIn[32], line 10\u001b[0m\n\u001b[0;32m      7\u001b[0m Y \u001b[39m=\u001b[39m df_rev[label]\n\u001b[0;32m      9\u001b[0m smote \u001b[39m=\u001b[39m SMOTE()\n\u001b[1;32m---> 10\u001b[0m X_resampled, y_resampled \u001b[39m=\u001b[39m smote\u001b[39m.\u001b[39;49mfit_resample(X, Y)\n\u001b[0;32m     11\u001b[0m resampled_df \u001b[39m=\u001b[39m pd\u001b[39m.\u001b[39mDataFrame({\u001b[39m'\u001b[39m\u001b[39mlabel\u001b[39m\u001b[39m'\u001b[39m: y_resampled, \u001b[39m'\u001b[39m\u001b[39mvalue\u001b[39m\u001b[39m'\u001b[39m: X_resampled\u001b[39m.\u001b[39mflatten()})\n\u001b[0;32m     13\u001b[0m \u001b[39mprint\u001b[39m(resampled_df)\n",
      "File \u001b[1;32mc:\\Users\\lepeh\\AppData\\Local\\Programs\\Python\\Python310\\lib\\site-packages\\imblearn\\base.py:203\u001b[0m, in \u001b[0;36mBaseSampler.fit_resample\u001b[1;34m(self, X, y)\u001b[0m\n\u001b[0;32m    182\u001b[0m \u001b[39m\"\"\"Resample the dataset.\u001b[39;00m\n\u001b[0;32m    183\u001b[0m \n\u001b[0;32m    184\u001b[0m \u001b[39mParameters\u001b[39;00m\n\u001b[1;32m   (...)\u001b[0m\n\u001b[0;32m    200\u001b[0m \u001b[39m    The corresponding label of `X_resampled`.\u001b[39;00m\n\u001b[0;32m    201\u001b[0m \u001b[39m\"\"\"\u001b[39;00m\n\u001b[0;32m    202\u001b[0m \u001b[39mself\u001b[39m\u001b[39m.\u001b[39m_validate_params()\n\u001b[1;32m--> 203\u001b[0m \u001b[39mreturn\u001b[39;00m \u001b[39msuper\u001b[39;49m()\u001b[39m.\u001b[39;49mfit_resample(X, y)\n",
      "File \u001b[1;32mc:\\Users\\lepeh\\AppData\\Local\\Programs\\Python\\Python310\\lib\\site-packages\\imblearn\\base.py:82\u001b[0m, in \u001b[0;36mSamplerMixin.fit_resample\u001b[1;34m(self, X, y)\u001b[0m\n\u001b[0;32m     80\u001b[0m check_classification_targets(y)\n\u001b[0;32m     81\u001b[0m arrays_transformer \u001b[39m=\u001b[39m ArraysTransformer(X, y)\n\u001b[1;32m---> 82\u001b[0m X, y, binarize_y \u001b[39m=\u001b[39m \u001b[39mself\u001b[39;49m\u001b[39m.\u001b[39;49m_check_X_y(X, y)\n\u001b[0;32m     84\u001b[0m \u001b[39mself\u001b[39m\u001b[39m.\u001b[39msampling_strategy_ \u001b[39m=\u001b[39m check_sampling_strategy(\n\u001b[0;32m     85\u001b[0m     \u001b[39mself\u001b[39m\u001b[39m.\u001b[39msampling_strategy, y, \u001b[39mself\u001b[39m\u001b[39m.\u001b[39m_sampling_type\n\u001b[0;32m     86\u001b[0m )\n\u001b[0;32m     88\u001b[0m output \u001b[39m=\u001b[39m \u001b[39mself\u001b[39m\u001b[39m.\u001b[39m_fit_resample(X, y)\n",
      "File \u001b[1;32mc:\\Users\\lepeh\\AppData\\Local\\Programs\\Python\\Python310\\lib\\site-packages\\imblearn\\base.py:156\u001b[0m, in \u001b[0;36mBaseSampler._check_X_y\u001b[1;34m(self, X, y, accept_sparse)\u001b[0m\n\u001b[0;32m    154\u001b[0m     accept_sparse \u001b[39m=\u001b[39m [\u001b[39m\"\u001b[39m\u001b[39mcsr\u001b[39m\u001b[39m\"\u001b[39m, \u001b[39m\"\u001b[39m\u001b[39mcsc\u001b[39m\u001b[39m\"\u001b[39m]\n\u001b[0;32m    155\u001b[0m y, binarize_y \u001b[39m=\u001b[39m check_target_type(y, indicate_one_vs_all\u001b[39m=\u001b[39m\u001b[39mTrue\u001b[39;00m)\n\u001b[1;32m--> 156\u001b[0m X, y \u001b[39m=\u001b[39m \u001b[39mself\u001b[39;49m\u001b[39m.\u001b[39;49m_validate_data(X, y, reset\u001b[39m=\u001b[39;49m\u001b[39mTrue\u001b[39;49;00m, accept_sparse\u001b[39m=\u001b[39;49maccept_sparse)\n\u001b[0;32m    157\u001b[0m \u001b[39mreturn\u001b[39;00m X, y, binarize_y\n",
      "File \u001b[1;32mc:\\Users\\lepeh\\AppData\\Local\\Programs\\Python\\Python310\\lib\\site-packages\\sklearn\\base.py:554\u001b[0m, in \u001b[0;36mBaseEstimator._validate_data\u001b[1;34m(self, X, y, reset, validate_separately, **check_params)\u001b[0m\n\u001b[0;32m    552\u001b[0m         y \u001b[39m=\u001b[39m check_array(y, input_name\u001b[39m=\u001b[39m\u001b[39m\"\u001b[39m\u001b[39my\u001b[39m\u001b[39m\"\u001b[39m, \u001b[39m*\u001b[39m\u001b[39m*\u001b[39mcheck_y_params)\n\u001b[0;32m    553\u001b[0m     \u001b[39melse\u001b[39;00m:\n\u001b[1;32m--> 554\u001b[0m         X, y \u001b[39m=\u001b[39m check_X_y(X, y, \u001b[39m*\u001b[39m\u001b[39m*\u001b[39mcheck_params)\n\u001b[0;32m    555\u001b[0m     out \u001b[39m=\u001b[39m X, y\n\u001b[0;32m    557\u001b[0m \u001b[39mif\u001b[39;00m \u001b[39mnot\u001b[39;00m no_val_X \u001b[39mand\u001b[39;00m check_params\u001b[39m.\u001b[39mget(\u001b[39m\"\u001b[39m\u001b[39mensure_2d\u001b[39m\u001b[39m\"\u001b[39m, \u001b[39mTrue\u001b[39;00m):\n",
      "File \u001b[1;32mc:\\Users\\lepeh\\AppData\\Local\\Programs\\Python\\Python310\\lib\\site-packages\\sklearn\\utils\\validation.py:1104\u001b[0m, in \u001b[0;36mcheck_X_y\u001b[1;34m(X, y, accept_sparse, accept_large_sparse, dtype, order, copy, force_all_finite, ensure_2d, allow_nd, multi_output, ensure_min_samples, ensure_min_features, y_numeric, estimator)\u001b[0m\n\u001b[0;32m   1099\u001b[0m         estimator_name \u001b[39m=\u001b[39m _check_estimator_name(estimator)\n\u001b[0;32m   1100\u001b[0m     \u001b[39mraise\u001b[39;00m \u001b[39mValueError\u001b[39;00m(\n\u001b[0;32m   1101\u001b[0m         \u001b[39mf\u001b[39m\u001b[39m\"\u001b[39m\u001b[39m{\u001b[39;00mestimator_name\u001b[39m}\u001b[39;00m\u001b[39m requires y to be passed, but the target y is None\u001b[39m\u001b[39m\"\u001b[39m\n\u001b[0;32m   1102\u001b[0m     )\n\u001b[1;32m-> 1104\u001b[0m X \u001b[39m=\u001b[39m check_array(\n\u001b[0;32m   1105\u001b[0m     X,\n\u001b[0;32m   1106\u001b[0m     accept_sparse\u001b[39m=\u001b[39;49maccept_sparse,\n\u001b[0;32m   1107\u001b[0m     accept_large_sparse\u001b[39m=\u001b[39;49maccept_large_sparse,\n\u001b[0;32m   1108\u001b[0m     dtype\u001b[39m=\u001b[39;49mdtype,\n\u001b[0;32m   1109\u001b[0m     order\u001b[39m=\u001b[39;49morder,\n\u001b[0;32m   1110\u001b[0m     copy\u001b[39m=\u001b[39;49mcopy,\n\u001b[0;32m   1111\u001b[0m     force_all_finite\u001b[39m=\u001b[39;49mforce_all_finite,\n\u001b[0;32m   1112\u001b[0m     ensure_2d\u001b[39m=\u001b[39;49mensure_2d,\n\u001b[0;32m   1113\u001b[0m     allow_nd\u001b[39m=\u001b[39;49mallow_nd,\n\u001b[0;32m   1114\u001b[0m     ensure_min_samples\u001b[39m=\u001b[39;49mensure_min_samples,\n\u001b[0;32m   1115\u001b[0m     ensure_min_features\u001b[39m=\u001b[39;49mensure_min_features,\n\u001b[0;32m   1116\u001b[0m     estimator\u001b[39m=\u001b[39;49mestimator,\n\u001b[0;32m   1117\u001b[0m     input_name\u001b[39m=\u001b[39;49m\u001b[39m\"\u001b[39;49m\u001b[39mX\u001b[39;49m\u001b[39m\"\u001b[39;49m,\n\u001b[0;32m   1118\u001b[0m )\n\u001b[0;32m   1120\u001b[0m y \u001b[39m=\u001b[39m _check_y(y, multi_output\u001b[39m=\u001b[39mmulti_output, y_numeric\u001b[39m=\u001b[39my_numeric, estimator\u001b[39m=\u001b[39mestimator)\n\u001b[0;32m   1122\u001b[0m check_consistent_length(X, y)\n",
      "File \u001b[1;32mc:\\Users\\lepeh\\AppData\\Local\\Programs\\Python\\Python310\\lib\\site-packages\\sklearn\\utils\\validation.py:877\u001b[0m, in \u001b[0;36mcheck_array\u001b[1;34m(array, accept_sparse, accept_large_sparse, dtype, order, copy, force_all_finite, ensure_2d, allow_nd, ensure_min_samples, ensure_min_features, estimator, input_name)\u001b[0m\n\u001b[0;32m    875\u001b[0m         array \u001b[39m=\u001b[39m xp\u001b[39m.\u001b[39mastype(array, dtype, copy\u001b[39m=\u001b[39m\u001b[39mFalse\u001b[39;00m)\n\u001b[0;32m    876\u001b[0m     \u001b[39melse\u001b[39;00m:\n\u001b[1;32m--> 877\u001b[0m         array \u001b[39m=\u001b[39m _asarray_with_order(array, order\u001b[39m=\u001b[39;49morder, dtype\u001b[39m=\u001b[39;49mdtype, xp\u001b[39m=\u001b[39;49mxp)\n\u001b[0;32m    878\u001b[0m \u001b[39mexcept\u001b[39;00m ComplexWarning \u001b[39mas\u001b[39;00m complex_warning:\n\u001b[0;32m    879\u001b[0m     \u001b[39mraise\u001b[39;00m \u001b[39mValueError\u001b[39;00m(\n\u001b[0;32m    880\u001b[0m         \u001b[39m\"\u001b[39m\u001b[39mComplex data not supported\u001b[39m\u001b[39m\\n\u001b[39;00m\u001b[39m{}\u001b[39;00m\u001b[39m\\n\u001b[39;00m\u001b[39m\"\u001b[39m\u001b[39m.\u001b[39mformat(array)\n\u001b[0;32m    881\u001b[0m     ) \u001b[39mfrom\u001b[39;00m \u001b[39mcomplex_warning\u001b[39;00m\n",
      "File \u001b[1;32mc:\\Users\\lepeh\\AppData\\Local\\Programs\\Python\\Python310\\lib\\site-packages\\sklearn\\utils\\_array_api.py:185\u001b[0m, in \u001b[0;36m_asarray_with_order\u001b[1;34m(array, dtype, order, copy, xp)\u001b[0m\n\u001b[0;32m    182\u001b[0m     xp, _ \u001b[39m=\u001b[39m get_namespace(array)\n\u001b[0;32m    183\u001b[0m \u001b[39mif\u001b[39;00m xp\u001b[39m.\u001b[39m\u001b[39m__name__\u001b[39m \u001b[39min\u001b[39;00m {\u001b[39m\"\u001b[39m\u001b[39mnumpy\u001b[39m\u001b[39m\"\u001b[39m, \u001b[39m\"\u001b[39m\u001b[39mnumpy.array_api\u001b[39m\u001b[39m\"\u001b[39m}:\n\u001b[0;32m    184\u001b[0m     \u001b[39m# Use NumPy API to support order\u001b[39;00m\n\u001b[1;32m--> 185\u001b[0m     array \u001b[39m=\u001b[39m numpy\u001b[39m.\u001b[39;49masarray(array, order\u001b[39m=\u001b[39;49morder, dtype\u001b[39m=\u001b[39;49mdtype)\n\u001b[0;32m    186\u001b[0m     \u001b[39mreturn\u001b[39;00m xp\u001b[39m.\u001b[39masarray(array, copy\u001b[39m=\u001b[39mcopy)\n\u001b[0;32m    187\u001b[0m \u001b[39melse\u001b[39;00m:\n",
      "File \u001b[1;32mc:\\Users\\lepeh\\AppData\\Local\\Programs\\Python\\Python310\\lib\\site-packages\\pandas\\core\\generic.py:2070\u001b[0m, in \u001b[0;36mNDFrame.__array__\u001b[1;34m(self, dtype)\u001b[0m\n\u001b[0;32m   2069\u001b[0m \u001b[39mdef\u001b[39;00m \u001b[39m__array__\u001b[39m(\u001b[39mself\u001b[39m, dtype: npt\u001b[39m.\u001b[39mDTypeLike \u001b[39m|\u001b[39m \u001b[39mNone\u001b[39;00m \u001b[39m=\u001b[39m \u001b[39mNone\u001b[39;00m) \u001b[39m-\u001b[39m\u001b[39m>\u001b[39m np\u001b[39m.\u001b[39mndarray:\n\u001b[1;32m-> 2070\u001b[0m     \u001b[39mreturn\u001b[39;00m np\u001b[39m.\u001b[39;49masarray(\u001b[39mself\u001b[39;49m\u001b[39m.\u001b[39;49m_values, dtype\u001b[39m=\u001b[39;49mdtype)\n",
      "\u001b[1;31mValueError\u001b[0m: could not convert string to float: '\\nPros:Scrolling 5/5-Scrolling on Windows has always be light years behind Mac - even when using a track pad on Windows vs a stepped scroll wheel, the scroll feels jerky and inconsistent while Macs always feel buttery smooth and fluid no matter what device you use. This mouse with the scroll wheel in free spin \"MagSpeed\" mode is the closest I\\'ve ever felt a Windows machine scroll like a Mac. It really is super nice. I almost never put it into the stepped mode. I see a lot of comments talking about inconsistent scrolling on this mouse and I cannot say I have experienced that. For context I am using the Lightspeed connector and not Bluetooth, which I\\'m sure plays a large factor with the free spin. Let\\'s look at the math behind that. Logitech claims Lightspeed has a 1ms response time, while bluetooth can be as low as 34ms but is often times more around 100-300ms. In \"MagSpeed\" mode at full spin speed, this mouse will do 1000 lines per second. So yes, for your computer to ingest those line signals it\\'s going to need a 1ms response rate. I am also using Logitech\\'s Options+ software which may also play a role in scrolling stability.Ergonomics 4/5-Ergonomics feel really nice to me, but borderline too small. My glove size is between M and L (or 8 and 9), so if you are an L or larger hand maybe this won\\'t work for you, but everyone\\'s comfort is different. The thumb and palm sculpting is really nice and fills the hand nicely (depending on your size). The matte finish texturing also feels nice, I just hope it doesn\\'t deteriorate over time.Logitech Options+ Software 5/5-Being able to program the button map per application is a game changer (for me) and has really improved my work flow. DPI can also be adjusted here.Gesture Button 5/5-The lower thumb \"gesture\" button gives back Mac like gestures to mouse users, something I sorta forgot I was missing but use it all the time now.DPI 5/5-I found out 8k DPI is too high for my monitor, which was one of the deciding factors for me between this and the MX 3. I have a 49inch ultrawide 32:9 ratio monitor at 5120X1440 resolution, and I could feel the lower DPI of my old mouse on this monitor. However this one set to 8k is crazy fast - way too fast - so I currently have it set to 55% speed. Again lets look at the math - if you have a 8k monitor, this mouse set to max DPI is going to get from the left most side of the screen to the right most side in just 1inch of mouse travel. That\\'s fast - you may find that 8K is overkill for your needs. That said, this is all easily adjustable in the Options+ software and it does feel WAY smoother than any mouse or trackpad I\\'ve used. I\\'ve yet to use this on glass - I\\'m sure the DPI helps in that regard.Click 4/5-I honestly thought I wouldn\\'t like having a silent click feel, and I like clicky keyboards as well, but it\\'s growing on me. Enough so to make me rethink the type of keyboard I\\'m using. Click feel and sound ultimately comes down to preference, so all I can say is you feel the click, but it\\'s barely audible. Search youtube or even Amazon reviews, I\\'ve seen sound comparisons with this mouse so judge for yourself.Cons:Ergonomics:-The lost point above is due to size - my fourth finger does rest on the desk, which was true of my previous mouse as well so I\\'m used to it but the experience would be better if there was a rest point or wing on the right side of this mouse. I don\\'t know, this is again preference and hold style but for me I think I would have given a higher score for ergonomics if my pinky didn\\'t touch the desk.Click:-Still on the fence on how silent the click is. Feel is good, sound is... well not there. So if you\\'re used to a satisfying click sound this is going to be jarring.\\n'"
     ]
    }
   ],
   "source": [
    "\n",
    "\n",
    "columns = df_rev.columns.tolist()\n",
    "columns = [i for i in columns if i not in [\"Stars\"]]\n",
    "label = \"Stars\"\n",
    "X = df_rev[columns]\n",
    "Y = df_rev[label]\n",
    "\n",
    "df_class_1_over = df_class_1.sample(count_class_0, replace=True)\n",
    "df_test_over = pd.concat([df_class_0, df_class_1_over], axis=0)\n",
    "\n",
    "print('Random over-sampling:')\n",
    "print(df_test_over.Churn.value_counts())\n",
    "\n",
    "\n",
    "# smote = SMOTE()\n",
    "# X_resampled, y_resampled = smote.fit_resample(X, Y)\n",
    "# resampled_df = pd.DataFrame({'label': y_resampled, 'value': X_resampled.flatten()})\n",
    "\n",
    "# print(resampled_df)\n",
    "\n",
    "\n",
    "# vectorizer = CountVectorizer()\n",
    "# vectorizer.fit(X.values.ravel())\n",
    "# X_t=vectorizer.transform(X.values.ravel())\n",
    "# X_t=X_t.toarray()\n",
    "\n",
    "# x_t = pd.DataFrame(X_t)\n",
    "# X_resample, y_resampled = SMOTE().fit_resample(X_t, Y)\n",
    "\n",
    "# X_resample.value_counts()\n",
    "\n",
    "# smote = SMOTE(sampling_strategy='minority')\n",
    "# X_sm, Y_sm = smote.fit_resample(X, Y)\n",
    "\n",
    "# Y_sm.value_counts()\n",
    "\n",
    "\n",
    "\n",
    "\n",
    "# smk = SMOTETomek(random_state=42)\n",
    "# X_res,y_res=smk.fit_resample(X,Y)\n",
    "# print(X.shape)\n",
    "# print(Y.shape)"
   ]
  },
  {
   "cell_type": "code",
   "execution_count": 48,
   "metadata": {},
   "outputs": [
    {
     "data": {
      "text/plain": [
       "mouse       1271\n",
       "scroll       350\n",
       "use          319\n",
       "wheel        311\n",
       "logitech     290\n",
       "dtype: int64"
      ]
     },
     "execution_count": 48,
     "metadata": {},
     "output_type": "execute_result"
    }
   ],
   "source": [
    "#let's see top 5 most frequent words in the set\n",
    "freq_top = pd.Series(' '.join(df_test_under['Low_rev']).lower().split()).value_counts()[:5]\n",
    "freq_top"
   ]
  },
  {
   "cell_type": "code",
   "execution_count": null,
   "metadata": {},
   "outputs": [],
   "source": [
    "#the dataset is gravitating towards 5* largely\n",
    "#good news for the brand, not so good for us because the set is imbalanced\n",
    "#lets balance it\n"
   ]
  },
  {
   "cell_type": "code",
   "execution_count": 74,
   "metadata": {},
   "outputs": [],
   "source": [
    "df_rev.drop('low_reviews',axis=1,inplace=True)"
   ]
  },
  {
   "cell_type": "code",
   "execution_count": 127,
   "metadata": {},
   "outputs": [],
   "source": [
    "X = df_rev['low_reviews']\n",
    "y = df_rev['Stars']"
   ]
  },
  {
   "cell_type": "code",
   "execution_count": 128,
   "metadata": {},
   "outputs": [],
   "source": [
    "bow_transformer = CountVectorizer().fit(X)\n",
    "X = bow_transformer.transform(X)\n"
   ]
  },
  {
   "cell_type": "code",
   "execution_count": 129,
   "metadata": {},
   "outputs": [
    {
     "name": "stdout",
     "output_type": "stream",
     "text": [
      "Shape of Sparse Matrix:  (30, 1514)\n",
      "Amount of Non-Zero occurrences:  4519\n",
      "Density: 9.94936151475121\n"
     ]
    }
   ],
   "source": [
    "print('Shape of Sparse Matrix: ', X.shape)\n",
    "print('Amount of Non-Zero occurrences: ', X.nnz)\n",
    "\n",
    "# Percentage of non-zero values\n",
    "density = (100.0 * X.nnz / (X.shape[0] * X.shape[1]))\n",
    "print('Density: {}'.format((density)))"
   ]
  },
  {
   "cell_type": "code",
   "execution_count": 130,
   "metadata": {},
   "outputs": [],
   "source": [
    "X_train, X_test, y_train, y_test = train_test_split(X, y, test_size=0.3, random_state=101)\n",
    "nb = MultinomialNB()\n",
    "nb.fit(X_train, y_train)\n",
    "preds = nb.predict(X_test)"
   ]
  },
  {
   "cell_type": "code",
   "execution_count": 131,
   "metadata": {},
   "outputs": [
    {
     "name": "stdout",
     "output_type": "stream",
     "text": [
      "[[0 0]\n",
      " [1 8]]\n",
      "\n",
      "\n",
      "              precision    recall  f1-score   support\n",
      "\n",
      "           3       0.00      0.00      0.00         0\n",
      "           5       1.00      0.89      0.94         9\n",
      "\n",
      "    accuracy                           0.89         9\n",
      "   macro avg       0.50      0.44      0.47         9\n",
      "weighted avg       1.00      0.89      0.94         9\n",
      "\n",
      "0.8888888888888888\n"
     ]
    },
    {
     "name": "stderr",
     "output_type": "stream",
     "text": [
      "c:\\Users\\lepeh\\AppData\\Local\\Programs\\Python\\Python310\\lib\\site-packages\\sklearn\\metrics\\_classification.py:1344: UndefinedMetricWarning: Recall and F-score are ill-defined and being set to 0.0 in labels with no true samples. Use `zero_division` parameter to control this behavior.\n",
      "  _warn_prf(average, modifier, msg_start, len(result))\n",
      "c:\\Users\\lepeh\\AppData\\Local\\Programs\\Python\\Python310\\lib\\site-packages\\sklearn\\metrics\\_classification.py:1344: UndefinedMetricWarning: Recall and F-score are ill-defined and being set to 0.0 in labels with no true samples. Use `zero_division` parameter to control this behavior.\n",
      "  _warn_prf(average, modifier, msg_start, len(result))\n",
      "c:\\Users\\lepeh\\AppData\\Local\\Programs\\Python\\Python310\\lib\\site-packages\\sklearn\\metrics\\_classification.py:1344: UndefinedMetricWarning: Recall and F-score are ill-defined and being set to 0.0 in labels with no true samples. Use `zero_division` parameter to control this behavior.\n",
      "  _warn_prf(average, modifier, msg_start, len(result))\n"
     ]
    }
   ],
   "source": [
    "print(confusion_matrix(y_test, preds))\n",
    "print('\\n')\n",
    "print(classification_report(y_test, preds))\n",
    "print(metrics.accuracy_score(y_test, preds))"
   ]
  },
  {
   "cell_type": "code",
   "execution_count": 49,
   "metadata": {},
   "outputs": [
    {
     "data": {
      "image/png": "[encoded data removed]",
      "text/plain": [
       "<Figure size 640x480 with 1 Axes>"
      ]
     },
     "metadata": {},
     "output_type": "display_data"
    }
   ],
   "source": []
  },
  {
   "cell_type": "code",
   "execution_count": 79,
   "metadata": {},
   "outputs": [],
   "source": [
    "X_train, X_test, y_train, y_test = train_test_split(df_rev['low_reviews'], df_rev['Stars'], test_size=0.2, random_state=42)\n"
   ]
  },
  {
   "cell_type": "code",
   "execution_count": 80,
   "metadata": {},
   "outputs": [],
   "source": [
    "vectorizer = CountVectorizer()\n",
    "X_train = vectorizer.fit_transform(X_train)\n",
    "X_test = vectorizer.transform(X_test)"
   ]
  },
  {
   "cell_type": "code",
   "execution_count": 84,
   "metadata": {},
   "outputs": [
    {
     "ename": "TypeError",
     "evalue": "Dataset() takes no arguments",
     "output_type": "error",
     "traceback": [
      "\u001b[1;31m---------------------------------------------------------------------------\u001b[0m",
      "\u001b[1;31mTypeError\u001b[0m                                 Traceback (most recent call last)",
      "Cell \u001b[1;32mIn[84], line 4\u001b[0m\n\u001b[0;32m      2\u001b[0m learning_rate \u001b[39m=\u001b[39m \u001b[39m0.001\u001b[39m\n\u001b[0;32m      3\u001b[0m num_epochs \u001b[39m=\u001b[39m \u001b[39m10\u001b[39m\n\u001b[1;32m----> 4\u001b[0m train_dataset \u001b[39m=\u001b[39m Dataset(X_train\u001b[39m.\u001b[39;49mtoarray(), y_train\u001b[39m.\u001b[39;49mvalues)\n\u001b[0;32m      5\u001b[0m train_loader \u001b[39m=\u001b[39m DataLoader(train_dataset, batch_size\u001b[39m=\u001b[39mbatch_size, shuffle\u001b[39m=\u001b[39m\u001b[39mTrue\u001b[39;00m)\n\u001b[0;32m      6\u001b[0m test_dataset \u001b[39m=\u001b[39m Dataset(X_test\u001b[39m.\u001b[39mtoarray(), y_test\u001b[39m.\u001b[39mvalues)\n",
      "\u001b[1;31mTypeError\u001b[0m: Dataset() takes no arguments"
     ]
    }
   ],
   "source": [
    "batch_size = 32\n",
    "learning_rate = 0.001\n",
    "num_epochs = 10\n",
    "train_dataset = Dataset(X_train.toarray(), y_train.values)\n",
    "train_loader = DataLoader(train_dataset, batch_size=batch_size, shuffle=True)\n",
    "test_dataset = Dataset(X_test.toarray(), y_test.values)\n",
    "test_loader = DataLoader(test_dataset, batch_size=batch_size, shuffle=False)"
   ]
  },
  {
   "cell_type": "code",
   "execution_count": 82,
   "metadata": {},
   "outputs": [
    {
     "name": "stdout",
     "output_type": "stream",
     "text": [
      "Accuracy: 0.695\n"
     ]
    }
   ],
   "source": [
    "accuracy = accuracy_score(y_test, y_pred)\n",
    "print('Accuracy:', accuracy)"
   ]
  },
  {
   "cell_type": "code",
   "execution_count": 7,
   "metadata": {},
   "outputs": [],
   "source": [
    "# #write scraped data bout the product to the file. reviews and stars go into separate file\n",
    "\n",
    "# header = ['Title', 'ASIN','Price', 'Av. Rating','Num. ratings','Date']\n",
    "# data = [product, asin,price, stars_overall, num_ratings,thedate]\n",
    "\n",
    "# with open('prod.csv', 'a+', newline='', encoding='UTF8') as f:\n",
    "#     writer = csv.writer(f)\n",
    "#     writer.writerow(header)\n",
    "#     writer.writerow(data)"
   ]
  },
  {
   "cell_type": "code",
   "execution_count": 8,
   "metadata": {},
   "outputs": [],
   "source": [
    "# header = ['Review', 'Stars']\n",
    "# data = list(zip(reviews, stars))\n",
    "\n",
    "# with open('reviews.csv', 'a+', newline='', encoding='UTF8') as f:\n",
    "#     writer = csv.writer(f)\n",
    "#     writer.writerow(['Review', 'Stars'])\n",
    "#     for row in data:\n",
    "#         writer.writerow(row)\n"
   ]
  },
  {
   "cell_type": "code",
   "execution_count": 9,
   "metadata": {},
   "outputs": [
    {
     "data": {
      "text/plain": [
       "(100, 1)"
      ]
     },
     "execution_count": 9,
     "metadata": {},
     "output_type": "execute_result"
    }
   ],
   "source": [
    "df_full = pd.read_csv(\"reviews.csv\")\n",
    "df = pd.read_csv(\"reviews.csv\")\n",
    "df.drop(['Stars'],axis=1,inplace=True)\n",
    "df.shape"
   ]
  },
  {
   "cell_type": "code",
   "execution_count": 102,
   "metadata": {},
   "outputs": [
    {
     "name": "stdout",
     "output_type": "stream",
     "text": [
      "['banana', '', 'tomato', 'cucucmber', 'potato', 'strawberry', 'bnana', 'peaches']\n"
     ]
    }
   ],
   "source": [
    "newl = [['banana','1234'],['tomato', 'cu234cucmber','po56565tato'], ['strawberry','b1n_a!na', 'peaches']]\n",
    "kl =[]\n",
    "for j in newl:\n",
    "    for i in j:\n",
    "        y = re.sub(r'[^a-zA-Z]', '', i)\n",
    "        kl.append(y)\n",
    "print(kl)    \n"
   ]
  },
  {
   "cell_type": "code",
   "execution_count": 109,
   "metadata": {},
   "outputs": [],
   "source": [
    "def cleanup(rev):\n",
    "    rev_cl = rev.lower().split()\n",
    "    alphanum =[]\n",
    "    for i in rev_cl:\n",
    "        new_j = re.sub(r'[^a-zA-Z]', '', i)\n",
    "        alphanum.append(new_j)\n",
    "    stopw = set(stopwords.words(\"english\"))   \n",
    "    nostop = []\n",
    "    for i in alphanum:\n",
    "        if i not in stopw:\n",
    "           nostop.append(i) \n",
    "\n",
    "    return nostop\n"
   ]
  },
  {
   "cell_type": "code",
   "execution_count": 1,
   "metadata": {},
   "outputs": [
    {
     "ename": "NameError",
     "evalue": "name 'df' is not defined",
     "output_type": "error",
     "traceback": [
      "\u001b[1;31m---------------------------------------------------------------------------\u001b[0m",
      "\u001b[1;31mNameError\u001b[0m                                 Traceback (most recent call last)",
      "Cell \u001b[1;32mIn[1], line 2\u001b[0m\n\u001b[0;32m      1\u001b[0m \u001b[39m# cleaned_reviews = []\u001b[39;00m\n\u001b[1;32m----> 2\u001b[0m df[\u001b[39m'\u001b[39m\u001b[39mlow_reviews\u001b[39m\u001b[39m'\u001b[39m] \u001b[39m=\u001b[39m df[\u001b[39m'\u001b[39m\u001b[39mReview\u001b[39m\u001b[39m'\u001b[39m]\u001b[39m.\u001b[39mapply(\u001b[39mlambda\u001b[39;00m x: cleanup(x))\n",
      "\u001b[1;31mNameError\u001b[0m: name 'df' is not defined"
     ]
    }
   ],
   "source": [
    "# cleaned_reviews = []\n",
    "\n",
    "# df['low_reviews'] = df['Review'].apply(lambda x: cleanup(x))\n",
    "df['low_reviews'] = df['Review'].apply(cleanup)"
   ]
  },
  {
   "cell_type": "code",
   "execution_count": null,
   "metadata": {},
   "outputs": [],
   "source": []
  },
  {
   "cell_type": "code",
   "execution_count": 51,
   "metadata": {},
   "outputs": [],
   "source": [
    "df.drop(['low_reviews'],axis=1,inplace=True)"
   ]
  },
  {
   "cell_type": "code",
   "execution_count": 108,
   "metadata": {},
   "outputs": [
    {
     "data": {
      "text/html": [
       "<div>\n",
       "<style scoped>\n",
       "    .dataframe tbody tr th:only-of-type {\n",
       "        vertical-align: middle;\n",
       "    }\n",
       "\n",
       "    .dataframe tbody tr th {\n",
       "        vertical-align: top;\n",
       "    }\n",
       "\n",
       "    .dataframe thead th {\n",
       "        text-align: right;\n",
       "    }\n",
       "</style>\n",
       "<table border=\"1\" class=\"dataframe\">\n",
       "  <thead>\n",
       "    <tr style=\"text-align: right;\">\n",
       "      <th></th>\n",
       "      <th>Review</th>\n",
       "      <th>stars_predicted</th>\n",
       "      <th>original_stars</th>\n",
       "      <th>low_reviews</th>\n",
       "    </tr>\n",
       "  </thead>\n",
       "  <tbody>\n",
       "    <tr>\n",
       "      <th>0</th>\n",
       "      <td>\\nPros:Scrolling 5/5-Scrolling on Windows has ...</td>\n",
       "      <td>4</td>\n",
       "      <td>5</td>\n",
       "      <td>[prosscrolling, scrolling, on, windows, has, a...</td>\n",
       "    </tr>\n",
       "    <tr>\n",
       "      <th>1</th>\n",
       "      <td>\\nI've been using this mouse for a year and I ...</td>\n",
       "      <td>5</td>\n",
       "      <td>5</td>\n",
       "      <td>[ive, been, using, this, mouse, for, a, year, ...</td>\n",
       "    </tr>\n",
       "    <tr>\n",
       "      <th>2</th>\n",
       "      <td>\\nI wish that there was a fusion between the L...</td>\n",
       "      <td>3</td>\n",
       "      <td>5</td>\n",
       "      <td>[i, wish, that, there, was, a, fusion, between...</td>\n",
       "    </tr>\n",
       "    <tr>\n",
       "      <th>3</th>\n",
       "      <td>\\nPros:1.) The fact that the scroll wheel is a...</td>\n",
       "      <td>2</td>\n",
       "      <td>3</td>\n",
       "      <td>[pros, the, fact, that, the, scroll, wheel, is...</td>\n",
       "    </tr>\n",
       "    <tr>\n",
       "      <th>4</th>\n",
       "      <td>\\nI've been using the Logitech Performance MX ...</td>\n",
       "      <td>4</td>\n",
       "      <td>5</td>\n",
       "      <td>[ive, been, using, the, logitech, performance,...</td>\n",
       "    </tr>\n",
       "    <tr>\n",
       "      <th>5</th>\n",
       "      <td>\\nI've grown up with Logitech gaming periphera...</td>\n",
       "      <td>4</td>\n",
       "      <td>5</td>\n",
       "      <td>[ive, grown, up, with, logitech, gaming, perip...</td>\n",
       "    </tr>\n",
       "    <tr>\n",
       "      <th>6</th>\n",
       "      <td>\\nThis mouse is definitely my favorite one to ...</td>\n",
       "      <td>5</td>\n",
       "      <td>5</td>\n",
       "      <td>[this, mouse, is, definitely, my, favorite, on...</td>\n",
       "    </tr>\n",
       "    <tr>\n",
       "      <th>7</th>\n",
       "      <td>\\nI've never spent $99 for a mouse, but after ...</td>\n",
       "      <td>3</td>\n",
       "      <td>5</td>\n",
       "      <td>[ive, never, spent, , for, a, mouse, but, afte...</td>\n",
       "    </tr>\n",
       "    <tr>\n",
       "      <th>8</th>\n",
       "      <td>\\nBought this to stop using my Logitech ultra ...</td>\n",
       "      <td>1</td>\n",
       "      <td>5</td>\n",
       "      <td>[bought, this, to, stop, using, my, logitech, ...</td>\n",
       "    </tr>\n",
       "    <tr>\n",
       "      <th>9</th>\n",
       "      <td>\\nI work from home and have my personal comput...</td>\n",
       "      <td>5</td>\n",
       "      <td>5</td>\n",
       "      <td>[i, work, from, home, and, have, my, personal,...</td>\n",
       "    </tr>\n",
       "    <tr>\n",
       "      <th>10</th>\n",
       "      <td>\\nPros:Scrolling 5/5-Scrolling on Windows has ...</td>\n",
       "      <td>4</td>\n",
       "      <td>5</td>\n",
       "      <td>[prosscrolling, scrolling, on, windows, has, a...</td>\n",
       "    </tr>\n",
       "    <tr>\n",
       "      <th>11</th>\n",
       "      <td>\\nI've been using this mouse for a year and I ...</td>\n",
       "      <td>5</td>\n",
       "      <td>5</td>\n",
       "      <td>[ive, been, using, this, mouse, for, a, year, ...</td>\n",
       "    </tr>\n",
       "    <tr>\n",
       "      <th>12</th>\n",
       "      <td>\\nI wish that there was a fusion between the L...</td>\n",
       "      <td>3</td>\n",
       "      <td>5</td>\n",
       "      <td>[i, wish, that, there, was, a, fusion, between...</td>\n",
       "    </tr>\n",
       "    <tr>\n",
       "      <th>13</th>\n",
       "      <td>\\nPros:1.) The fact that the scroll wheel is a...</td>\n",
       "      <td>2</td>\n",
       "      <td>3</td>\n",
       "      <td>[pros, the, fact, that, the, scroll, wheel, is...</td>\n",
       "    </tr>\n",
       "    <tr>\n",
       "      <th>14</th>\n",
       "      <td>\\nI've been using the Logitech Performance MX ...</td>\n",
       "      <td>4</td>\n",
       "      <td>5</td>\n",
       "      <td>[ive, been, using, the, logitech, performance,...</td>\n",
       "    </tr>\n",
       "  </tbody>\n",
       "</table>\n",
       "</div>"
      ],
      "text/plain": [
       "                                               Review  stars_predicted  \\\n",
       "0   \\nPros:Scrolling 5/5-Scrolling on Windows has ...                4   \n",
       "1   \\nI've been using this mouse for a year and I ...                5   \n",
       "2   \\nI wish that there was a fusion between the L...                3   \n",
       "3   \\nPros:1.) The fact that the scroll wheel is a...                2   \n",
       "4   \\nI've been using the Logitech Performance MX ...                4   \n",
       "5   \\nI've grown up with Logitech gaming periphera...                4   \n",
       "6   \\nThis mouse is definitely my favorite one to ...                5   \n",
       "7   \\nI've never spent $99 for a mouse, but after ...                3   \n",
       "8   \\nBought this to stop using my Logitech ultra ...                1   \n",
       "9   \\nI work from home and have my personal comput...                5   \n",
       "10  \\nPros:Scrolling 5/5-Scrolling on Windows has ...                4   \n",
       "11  \\nI've been using this mouse for a year and I ...                5   \n",
       "12  \\nI wish that there was a fusion between the L...                3   \n",
       "13  \\nPros:1.) The fact that the scroll wheel is a...                2   \n",
       "14  \\nI've been using the Logitech Performance MX ...                4   \n",
       "\n",
       "    original_stars                                        low_reviews  \n",
       "0                5  [prosscrolling, scrolling, on, windows, has, a...  \n",
       "1                5  [ive, been, using, this, mouse, for, a, year, ...  \n",
       "2                5  [i, wish, that, there, was, a, fusion, between...  \n",
       "3                3  [pros, the, fact, that, the, scroll, wheel, is...  \n",
       "4                5  [ive, been, using, the, logitech, performance,...  \n",
       "5                5  [ive, grown, up, with, logitech, gaming, perip...  \n",
       "6                5  [this, mouse, is, definitely, my, favorite, on...  \n",
       "7                5  [ive, never, spent, , for, a, mouse, but, afte...  \n",
       "8                5  [bought, this, to, stop, using, my, logitech, ...  \n",
       "9                5  [i, work, from, home, and, have, my, personal,...  \n",
       "10               5  [prosscrolling, scrolling, on, windows, has, a...  \n",
       "11               5  [ive, been, using, this, mouse, for, a, year, ...  \n",
       "12               5  [i, wish, that, there, was, a, fusion, between...  \n",
       "13               3  [pros, the, fact, that, the, scroll, wheel, is...  \n",
       "14               5  [ive, been, using, the, logitech, performance,...  "
      ]
     },
     "execution_count": 108,
     "metadata": {},
     "output_type": "execute_result"
    }
   ],
   "source": [
    "df.head(15)"
   ]
  },
  {
   "cell_type": "code",
   "execution_count": null,
   "metadata": {},
   "outputs": [],
   "source": [
    "df.drop"
   ]
  },
  {
   "cell_type": "code",
   "execution_count": 10,
   "metadata": {},
   "outputs": [],
   "source": [
    "# tokenizer = AutoTokenizer.from_pretrained('nlptown/bert-base-multilingual-uncased-sentiment')\n",
    "# model = AutoModelForSequenceClassification.from_pretrained('nlptown/bert-base-multilingual-uncased-sentiment')"
   ]
  },
  {
   "cell_type": "code",
   "execution_count": 11,
   "metadata": {},
   "outputs": [],
   "source": [
    "# def sentiment(review):\n",
    "#     tokens = tokenizer.encode(review, return_tensors='pt')\n",
    "#     result = model(tokens)\n",
    "#     return int(torch.argmax(result.logits))+1"
   ]
  },
  {
   "cell_type": "code",
   "execution_count": 12,
   "metadata": {},
   "outputs": [],
   "source": [
    "# df['stars_predicted'] = df['Review'].apply(lambda x: sentiment(x[:100]))"
   ]
  },
  {
   "cell_type": "code",
   "execution_count": null,
   "metadata": {},
   "outputs": [],
   "source": [
    "# extr = df_full['Stars']\n",
    "# extr.head(10)\n",
    "# df.insert(2,'original_stars',extr)\n",
    "# # df.drop(['Stars'],axis=1,inplace=True)\n",
    "# df.head(15)"
   ]
  },
  {
   "cell_type": "code",
   "execution_count": 22,
   "metadata": {},
   "outputs": [],
   "source": [
    "\n",
    "# sns.countplot(x='stars_predicted', data=df)\n",
    "# plt.title('Predicted stars')\n",
    "# plt.xlabel('pred stars')\n",
    "# plt.ylabel('count')\n",
    "# plt.show()\n",
    "\n",
    "# df_rev['low_reviews'] = df_rev['Reviews'].apply(lambda x: cleanup(x))\n",
    "# df_rev.head()"
   ]
  }
 ],
 "metadata": {
  "kernelspec": {
   "display_name": "Python 3",
   "language": "python",
   "name": "python3"
  },
  "language_info": {
   "codemirror_mode": {
    "name": "ipython",
    "version": 3
   },
   "file_extension": ".py",
   "mimetype": "text/x-python",
   "name": "python",
   "nbconvert_exporter": "python",
   "pygments_lexer": "ipython3",
   "version": "3.10.0"
  },
  "orig_nbformat": 4,
  "vscode": {
   "interpreter": {
    "hash": "90d02fb60df52d0e9b9e3fdd36b86ce705e65dc7716bde2cb90fe6c36a5e0362"
   }
  }
 },
 "nbformat": 4,
 "nbformat_minor": 2
}
